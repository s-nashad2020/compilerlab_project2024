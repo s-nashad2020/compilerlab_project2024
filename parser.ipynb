{
  "nbformat": 4,
  "nbformat_minor": 0,
  "metadata": {
    "colab": {
      "provenance": []
    },
    "kernelspec": {
      "name": "python3",
      "display_name": "Python 3"
    },
    "language_info": {
      "name": "python"
    }
  },
  "cells": [
    {
      "cell_type": "code",
      "execution_count": 10,
      "metadata": {
        "colab": {
          "base_uri": "https://localhost:8080/"
        },
        "id": "M0PwYGm_pR4X",
        "outputId": "1c13b745-f206-4f42-8ce6-5c846639928e"
      },
      "outputs": [
        {
          "output_type": "stream",
          "name": "stdout",
          "text": [
            "Enter an arithmetic expression: 555+6\n",
            "Tokens: [('555', 'NUM'), ('+', 'PLUS'), ('6', 'NUM')]\n"
          ]
        }
      ],
      "source": [
        "import re\n",
        "\n",
        "class Parser:\n",
        "    def __init__(self):\n",
        "        self.tokens = []\n",
        "\n",
        "    def tokenize_input(self, input_string):\n",
        "      # Define regex patterns for tokens\n",
        "      patterns = [\n",
        "          (r'\\d+', 'NUM'),         # Match one or more digits\n",
        "          (r'\\+', 'PLUS'),         # Match '+'\n",
        "          (r'\\*', 'MULTIPLY'),     # Match '*'\n",
        "          (r'\\(', 'LPAREN'),       # Match '('\n",
        "          (r'\\)', 'RPAREN'),       # Match ')'\n",
        "          (r'\\s+', None),          # Match whitespace (ignore)\n",
        "          (r'[^0-9+\\-*\\(\\)\\s]', 'INVALID')  # Match any other character not in the allowed set\n",
        "      ]\n",
        "\n",
        "      # Tokenize input string\n",
        "      while input_string:\n",
        "          found_match = False\n",
        "          for pattern, token_type in patterns:\n",
        "              match = re.match(pattern, input_string)\n",
        "              if match:\n",
        "                  found_match = True\n",
        "                  if token_type == 'INVALID':\n",
        "                      raise SyntaxError(\"Invalid input\")\n",
        "                  elif token_type:\n",
        "                      self.tokens.append((match.group(), token_type))\n",
        "                  input_string = input_string[match.end():]\n",
        "                  break\n",
        "          if not found_match:\n",
        "              raise SyntaxError(\"Invalid input\")\n",
        "\n",
        "    def accept_input(self):\n",
        "        try:\n",
        "            input_string = input(\"Enter an arithmetic expression: \")\n",
        "            self.tokenize_input(input_string)\n",
        "            print(\"Tokens:\", self.tokens)\n",
        "        except SyntaxError as e:\n",
        "            print(\"Error:\", e)\n",
        "\n",
        "# Example usage\n",
        "parser = Parser()\n",
        "parser.accept_input()\n"
      ]
    }
  ]
}